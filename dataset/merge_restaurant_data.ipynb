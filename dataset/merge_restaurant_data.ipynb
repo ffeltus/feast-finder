{
 "cells": [
  {
   "cell_type": "code",
   "execution_count": null,
   "metadata": {},
   "outputs": [],
   "source": [
    "import pandas as pd"
   ]
  },
  {
   "cell_type": "code",
   "execution_count": null,
   "metadata": {},
   "outputs": [],
   "source": [
    "csv_file = 'restaurants_info.csv'\n",
    "\n",
    "try:\n",
    "    # Read CSV file with error-handling\n",
    "    csv_df = pd.read_csv(csv_file, delimiter=';')\n",
    "    print(csv_df.head)\n",
    "    num_records = len(csv_df)\n",
    "    print(\"Number of records:\", num_records)\n",
    "except pd.errors.ParserError as e:\n",
    "    print(f\"My Error: Error parsing CSV file: {e}\")\n",
    "\n",
    "json_file = 'restaurants_list.json'\n",
    "\n",
    "try:\n",
    "    # Read JSON file with error-handling\n",
    "    json_df = pd.read_json(json_file)\n",
    "    print(json_df.head())\n",
    "    num_records = len(json_df)\n",
    "    print(\"Number of records:\", num_records)\n",
    "except pd.errors.ParserError as e:\n",
    "    print(f\"My Error: Error parsing JSON file: {e}\")"
   ]
  },
  {
   "cell_type": "code",
   "execution_count": null,
   "metadata": {},
   "outputs": [],
   "source": [
    "# Merge the DataFrames on the \"objectID\" column\n",
    "merged_df = pd.merge(json_df, csv_df, on=\"objectID\", how=\"inner\")\n",
    "\n",
    "# Display the merged DataFrame\n",
    "# print(merged_df.head())\n",
    "\n",
    "columns = merged_df.columns\n",
    "print(\"Columns:\", columns)\n",
    "\n",
    "# Add a UK restaurant to test location precision \n",
    "new_record = {\n",
    "    'objectID': 99999,\n",
    "    'name': 'Pizzucci',\n",
    "    'address': '5, The Promenade, Gloucester Road',\n",
    "    'area': 'Bishopston',\n",
    "    'city': 'Bristol',\n",
    "    'country': 'United Kingdom',\n",
    "    'image_url': 'pizzucci.png',\n",
    "    'mobile_reserve_url': 'http://pizzucci.co.uk/',\n",
    "    'payment_options': 'Visa, MasterCard',\n",
    "    'phone': '01173790908',\n",
    "    'postal_code': 'BS7 8AL',\n",
    "    'price': 25.00,\n",
    "    'reserve_url': 'http://pizzucci.co.uk/',\n",
    "    'state': 'UK',\n",
    "    '_geoloc': {'lat': 51.471988, 'lng': -2.59229},\n",
    "    'food_type': 'Italian',\n",
    "    'stars_count': 4.5,\n",
    "    'reviews_count': 130,\n",
    "    'neighborhood': 'Gloucester Road',\n",
    "    'phone_number': '01173790908',\n",
    "    'price_range': '$30 and under',\n",
    "    'dining_style': 'Casual Dining'\n",
    "}\n",
    "\n",
    "# Add the new row to the DataFrame\n",
    "merged_df.loc[len(merged_df.index)] = new_record\n",
    "\n",
    "# Specify the path for the new CSV file\n",
    "output_csv_file = 'merged_restaurant_data.csv'\n",
    "\n",
    "# Write the merged DataFrame to a new CSV file (could import it manually into Algolia by file)\n",
    "merged_df.to_csv(output_csv_file, index=False)\n",
    "num_records = len(merged_df)\n",
    "# print(\"Number of records:\", num_records)\n",
    "\n",
    "# print(f\"Merged data has been written to '{output_csv_file}'.\")"
   ]
  },
  {
   "cell_type": "code",
   "execution_count": null,
   "metadata": {},
   "outputs": [],
   "source": [
    "print(merged_df.last)"
   ]
  },
  {
   "cell_type": "code",
   "execution_count": null,
   "metadata": {},
   "outputs": [],
   "source": [
    "# Let's ping over the DF through the Algolia API 💪\n",
    "\n",
    "from algoliasearch.search_client import SearchClient\n",
    "\n",
    "# Initialize the Algolia client\n",
    "client = SearchClient.create('GK7Q3EEC39', '22ba65d4d17fc040d760e0ffa2a58ef4')\n",
    "index = client.init_index('FeastFinder')\n",
    "\n",
    "# Convert DataFrame to JSON\n",
    "records = merged_df.to_dict(orient='records')\n",
    "\n",
    "# Delete all records from the index\n",
    "response = index.clear_objects()\n",
    "\n",
    "# Handle the response\n",
    "if 'error' in response:\n",
    "    print(f\"Error clearing index: {response['message']}\")\n",
    "else:\n",
    "    print(\"Index cleared successfully.\")\n",
    "\n",
    "# Import data to Algolia\n",
    "response = index.save_objects(records)\n",
    "\n",
    "# Handle the response\n",
    "if 'error' in response:\n",
    "    print(f\"Error importing data: {response['message']}\")\n",
    "else:\n",
    "    print(\"Data imported successfully.\")"
   ]
  }
 ],
 "metadata": {
  "kernelspec": {
   "display_name": "Python 3",
   "language": "python",
   "name": "python3"
  },
  "language_info": {
   "codemirror_mode": {
    "name": "ipython",
    "version": 3
   },
   "file_extension": ".py",
   "mimetype": "text/x-python",
   "name": "python",
   "nbconvert_exporter": "python",
   "pygments_lexer": "ipython3",
   "version": "3.11.9"
  }
 },
 "nbformat": 4,
 "nbformat_minor": 2
}
